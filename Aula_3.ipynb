{
  "nbformat": 4,
  "nbformat_minor": 0,
  "metadata": {
    "colab": {
      "provenance": [],
      "authorship_tag": "ABX9TyPiTqjPu7kWeQgBSoHiBOyk",
      "include_colab_link": true
    },
    "kernelspec": {
      "name": "python3",
      "display_name": "Python 3"
    },
    "language_info": {
      "name": "python"
    }
  },
  "cells": [
    {
      "cell_type": "markdown",
      "metadata": {
        "id": "view-in-github",
        "colab_type": "text"
      },
      "source": [
        "<a href=\"https://colab.research.google.com/github/MauhF/Programa-ao-Fpb/blob/main/Aula_3.ipynb\" target=\"_parent\"><img src=\"https://colab.research.google.com/assets/colab-badge.svg\" alt=\"Open In Colab\"/></a>"
      ]
    },
    {
      "cell_type": "code",
      "source": [
        "idade = 23\n",
        " print( 'meu nome é mauricio,  minha idade é: ' ,idade)\n"
      ],
      "metadata": {
        "colab": {
          "base_uri": "https://localhost:8080/",
          "height": 130
        },
        "id": "u4DEQEEEuu0B",
        "outputId": "4a30999d-acff-47c6-b290-e0b115a97b52"
      },
      "execution_count": 14,
      "outputs": [
        {
          "output_type": "error",
          "ename": "IndentationError",
          "evalue": "ignored",
          "traceback": [
            "\u001b[0;36m  File \u001b[0;32m\"<ipython-input-14-bba17eb0d1e9>\"\u001b[0;36m, line \u001b[0;32m2\u001b[0m\n\u001b[0;31m    print( 'meu nome é mauricio,  minha idade é: ' ,idade)\u001b[0m\n\u001b[0m    ^\u001b[0m\n\u001b[0;31mIndentationError\u001b[0m\u001b[0;31m:\u001b[0m unexpected indent\n"
          ]
        }
      ]
    },
    {
      "cell_type": "code",
      "source": [
        "a = 90  \n",
        "b = 42\n",
        "print(a+b)\n",
        "print(a-b)\n",
        "print(a*b)\n",
        "print(a/b)\n",
        "print(a%b)"
      ],
      "metadata": {
        "id": "hBh9CByeuvCJ"
      },
      "execution_count": null,
      "outputs": []
    },
    {
      "cell_type": "code",
      "source": [
        "nome = input('digite seu nome: ') #Strings\n",
        "print('Olá, ' +nome)"
      ],
      "metadata": {
        "id": "I_SpUejsvNvi"
      },
      "execution_count": null,
      "outputs": []
    },
    {
      "cell_type": "code",
      "source": [
        "#Código para dizer a idade da pessoa\n",
        "anoNascim = int(input('digite o ano de nascimento!')) \n",
        "print('Sua idade é: ',2023-anoNascim)"
      ],
      "metadata": {
        "id": "pKm54u2oviih"
      },
      "execution_count": null,
      "outputs": []
    },
    {
      "cell_type": "code",
      "execution_count": null,
      "metadata": {
        "id": "OVypY3Xmt1X8"
      },
      "outputs": [],
      "source": [
        "peso = float(input('Digite o peso! '))\n",
        "altura = float(input('Digite a altura! '))\n",
        "imc = peso/altura**2\n",
        "print('O IMC é:', imc)"
      ]
    },
    {
      "cell_type": "code",
      "source": [
        "#Verificar se um número é par\n",
        "num = int(input('Digite um número: '))\n",
        "if(num%2 == 0):\n",
        "  print('O número é par')\n",
        "else:\n",
        "    print('O número é impar')"
      ],
      "metadata": {
        "id": "Xz31QhnhuTSa"
      },
      "execution_count": null,
      "outputs": []
    },
    {
      "cell_type": "code",
      "source": [
        "#Em um campeonatode MMA, tem três categorias por peso\n",
        "#galo até 70kg\n",
        "#médio até 80kg\n",
        "#meio pesado até 90kg\n",
        "peso = float(input('Digite o peso do atleta:' ))\n",
        "if(peso <= 70):\n",
        "  print('Galo')\n",
        "elif(peso <= 80):\n",
        "  print ('Médio')\n",
        "else:\n",
        "  print('Meio Pesado')\n"
      ],
      "metadata": {
        "colab": {
          "base_uri": "https://localhost:8080/"
        },
        "id": "wFzs_9pGyX4N",
        "outputId": "d143fb65-61e8-4196-82b4-f51769cc0bdd"
      },
      "execution_count": 20,
      "outputs": [
        {
          "output_type": "stream",
          "name": "stdout",
          "text": [
            "Digite o peso do atleta:88\n",
            "Meio Pesado\n"
          ]
        }
      ]
    },
    {
      "cell_type": "code",
      "source": [
        "peso = float(input('Digite o peso! '))\n",
        "altura = float(input('Digite a altura! '))\n",
        "imc = peso/altura**2\n",
        "print('O IMC é:', imc)\n",
        "#Abaixo do peso  até 18.5\n",
        "#Peso normal até 24.9\n",
        "#Excesso de peso 34.9\n",
        "#Obesidade classe 1 até 34.9\n",
        "#Obesidade classe 2 até 39.9\n",
        "#Obesidade classe 3 maior 40\n",
        "peso = float(input('digite o imc!: '))\n",
        "if(peso < 18.5):\n",
        "  print('Abaixo do peso')\n",
        "elif(peso <= 24.9):\n",
        "  print('Peso normal')\n",
        "elif(peso <= 34.9):\n",
        "  print('Excesso de peso')\n",
        "elif(peso <= 34.9):\n",
        "  print('Obesidade classe 1')\n",
        "elif(peso <= 39.9):\n",
        "  print('Obesidade classe 2')\n",
        "else:\n",
        "  print('Obesidade classe 3')\n",
        "print('O IMC é:', round(imc,2))\n",
        "\n",
        "\n"
      ],
      "metadata": {
        "colab": {
          "base_uri": "https://localhost:8080/"
        },
        "id": "PG8woUAm1Onf",
        "outputId": "93dcf374-89ea-4056-9f65-ba572da0246c"
      },
      "execution_count": 30,
      "outputs": [
        {
          "output_type": "stream",
          "name": "stdout",
          "text": [
            "Digite o peso! 85\n",
            "Digite a altura! 1.88\n",
            "O IMC é: 24.049343594386603\n",
            "digite o imc!: 24.049343594386603\n",
            "Peso normal\n",
            "O IMC é: 24.05\n"
          ]
        }
      ]
    }
  ]
}