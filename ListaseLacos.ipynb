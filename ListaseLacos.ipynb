{
  "nbformat": 4,
  "nbformat_minor": 0,
  "metadata": {
    "colab": {
      "provenance": [],
      "authorship_tag": "ABX9TyO35SWbROSjG5jOnN48mMEu",
      "include_colab_link": true
    },
    "kernelspec": {
      "name": "python3",
      "display_name": "Python 3"
    },
    "language_info": {
      "name": "python"
    }
  },
  "cells": [
    {
      "cell_type": "markdown",
      "metadata": {
        "id": "view-in-github",
        "colab_type": "text"
      },
      "source": [
        "<a href=\"https://colab.research.google.com/github/MauhF/Programa-ao-Fpb/blob/main/ListaseLacos.ipynb\" target=\"_parent\"><img src=\"https://colab.research.google.com/assets/colab-badge.svg\" alt=\"Open In Colab\"/></a>"
      ]
    },
    {
      "cell_type": "code",
      "source": [
        "objetos = ['faca', 'tesoura', 'chave', 'Livro', 'caneta', 'copo']\n",
        "     "
      ],
      "metadata": {
        "id": "C5_pG-mHx28U"
      },
      "execution_count": 15,
      "outputs": []
    },
    {
      "cell_type": "code",
      "source": [
        "#Laço FOR \n",
        "for obj in objetos:\n",
        "  print(obj)\n",
        "     "
      ],
      "metadata": {
        "colab": {
          "base_uri": "https://localhost:8080/"
        },
        "id": "_0y-_WHMyDdz",
        "outputId": "7801e401-3059-45da-e70c-97f26f41297e"
      },
      "execution_count": 17,
      "outputs": [
        {
          "output_type": "stream",
          "name": "stdout",
          "text": [
            "faca\n",
            "tesoura\n",
            "chave\n",
            "Livro\n",
            "caneta\n",
            "copo\n"
          ]
        }
      ]
    },
    {
      "cell_type": "code",
      "source": [
        "#Crie uma lista com 5 números em sequência.\n",
        "nums = [1, 2, 3, 4, 5]\n",
        "#Crie uma lista com os 300 primeiros números"
      ],
      "metadata": {
        "id": "27MMrqObyIAS"
      },
      "execution_count": 20,
      "outputs": []
    },
    {
      "cell_type": "code",
      "execution_count": 3,
      "metadata": {
        "colab": {
          "base_uri": "https://localhost:8080/"
        },
        "id": "4dSezzh6tYDO",
        "outputId": "907649b2-61c8-41a3-9ad3-857c7cea9192"
      },
      "outputs": [
        {
          "output_type": "execute_result",
          "data": {
            "text/plain": [
              "[0, 1, 2, 3, 4, 5, 6, 7]"
            ]
          },
          "metadata": {},
          "execution_count": 3
        }
      ],
      "source": [
        "#Criar uma lista com números de 1 a 15\n",
        "numeros = []\n",
        "for num in range(8):\n",
        "  numeros.append(num)\n",
        "\n",
        "numeros\n"
      ]
    },
    {
      "cell_type": "code",
      "source": [
        "#Criar uma lista com números de 1 a 15\n",
        "numeros = []\n",
        "for num in range(15):\n",
        "  numeros.append(num)\n",
        "\n",
        "numeros"
      ],
      "metadata": {
        "colab": {
          "base_uri": "https://localhost:8080/"
        },
        "id": "d_z03rHEyRnS",
        "outputId": "0d501226-ca42-4eea-cc9b-6df165200904"
      },
      "execution_count": 21,
      "outputs": [
        {
          "output_type": "execute_result",
          "data": {
            "text/plain": [
              "[0, 1, 2, 3, 4, 5, 6, 7, 8, 9, 10, 11, 12, 13, 14]"
            ]
          },
          "metadata": {},
          "execution_count": 21
        }
      ]
    },
    {
      "cell_type": "code",
      "source": [
        "#Para usar a biblioteca Random, é preciso importá-la\n",
        "import random\n",
        "\n",
        "#Criar uma lista com tamanho aleatório (entre 0 e 50)\n",
        "nums2 = []\n",
        "for num in range(random.randrange(0, 50)):\n",
        "  nums2.append(num)\n",
        "\n",
        "nums2\n"
      ],
      "metadata": {
        "colab": {
          "base_uri": "https://localhost:8080/"
        },
        "id": "WxdMdQSdwe4a",
        "outputId": "2a1be6d2-fe6a-4028-c15a-9be98a8f41ac"
      },
      "execution_count": 31,
      "outputs": [
        {
          "output_type": "execute_result",
          "data": {
            "text/plain": [
              "[0, 1, 2, 3, 4, 5, 6, 7, 8, 9, 10]"
            ]
          },
          "metadata": {},
          "execution_count": 31
        }
      ]
    },
    {
      "cell_type": "code",
      "source": [
        "#(Parentesis)Descobrir se um número é par\n",
        "a = int(input('digite um numero! '))\n",
        "if a%2 == 0:\n",
        "  print('É par')\n",
        "else:\n",
        "  print('É impar')"
      ],
      "metadata": {
        "colab": {
          "base_uri": "https://localhost:8080/"
        },
        "id": "HMibhQujy93K",
        "outputId": "ae918197-b7eb-4909-f67d-41e1d036a7b0"
      },
      "execution_count": 26,
      "outputs": [
        {
          "output_type": "stream",
          "name": "stdout",
          "text": [
            "digite um numero! 2\n",
            "É par\n"
          ]
        }
      ]
    },
    {
      "cell_type": "code",
      "source": [
        "#Printar os números pares positivos até 50\n",
        "numPares = []\n",
        "for num in range(51):\n",
        "  if (num % 2 == 0):\n",
        "    numPares.append(num)\n",
        "numPares\n"
      ],
      "metadata": {
        "id": "AwBH7wYN2z_s"
      },
      "execution_count": null,
      "outputs": []
    },
    {
      "cell_type": "code",
      "source": [
        "#Printar os números pares positivos até 50 segundo jeito ?\n",
        "for num in numeros:\n",
        "  if num%2 == 0:\n",
        "    print(num)\n",
        "     \n"
      ],
      "metadata": {
        "id": "MH3mCcbV1E7r"
      },
      "execution_count": null,
      "outputs": []
    },
    {
      "cell_type": "code",
      "source": [
        "#Retorne a soma dos números de 1 a 100\n",
        "soma = 0\n",
        "\n",
        "for n in range(101):\n",
        "  soma = soma+n\n",
        "soma"
      ],
      "metadata": {
        "id": "z-L_KOSAzzx2"
      },
      "execution_count": null,
      "outputs": []
    },
    {
      "cell_type": "code",
      "source": [
        "#Criar um programa que lista os números de 1 a 10\n",
        "##Precisamos de um contador!\n",
        "cont = 0\n",
        "\n",
        "while (cont < 10):\n",
        "  print(cont +1)\n",
        "  cont+=1"
      ],
      "metadata": {
        "id": "ovAOI9Pi8RSU"
      },
      "execution_count": null,
      "outputs": []
    },
    {
      "cell_type": "code",
      "source": [
        "#Pede ao usuário para inserir um número inteiro maior que 1\n",
        "#O programa deve imprimir todos os números (Positivos) até o número digitado\n",
        "cont = 0\n",
        "num = int(input('Digite um numero: '))\n",
        "while (cont <= num):\n",
        "  print(cont)\n",
        "  cont +=1"
      ],
      "metadata": {
        "id": "IUoLevD59zpK"
      },
      "execution_count": null,
      "outputs": []
    },
    {
      "cell_type": "code",
      "source": [
        "#Criar uma lista de compras, encerra caso digite 0.\n",
        "comprasLista = []\n",
        "\n",
        "item = input('digite o item: ')\n",
        "while (item != '0'):\n",
        "  comprasLista.append(item)\n",
        "  item = input('digite o item: ')\n",
        "\n",
        "comprasLista"
      ],
      "metadata": {
        "id": "x5-bE962CNyL"
      },
      "execution_count": null,
      "outputs": []
    }
  ]
}