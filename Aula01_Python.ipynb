{
  "nbformat": 4,
  "nbformat_minor": 0,
  "metadata": {
    "colab": {
      "provenance": [],
      "authorship_tag": "ABX9TyN1jt+FlifULOEkE51oNsTB",
      "include_colab_link": true
    },
    "kernelspec": {
      "name": "python3",
      "display_name": "Python 3"
    },
    "language_info": {
      "name": "python"
    }
  },
  "cells": [
    {
      "cell_type": "markdown",
      "metadata": {
        "id": "view-in-github",
        "colab_type": "text"
      },
      "source": [
        "<a href=\"https://colab.research.google.com/github/MauhF/Programa-ao-Fpb/blob/main/Aula01_Python.ipynb\" target=\"_parent\"><img src=\"https://colab.research.google.com/assets/colab-badge.svg\" alt=\"Open In Colab\"/></a>"
      ]
    },
    {
      "cell_type": "code",
      "execution_count": null,
      "metadata": {
        "id": "M2wPWQXTtzB-"
      },
      "outputs": [],
      "source": []
    },
    {
      "cell_type": "markdown",
      "source": [
        "Meu primeiro notebook Python\n"
      ],
      "metadata": {
        "id": "wkE6Ze5PvshC"
      }
    },
    {
      "cell_type": "code",
      "source": [
        "print(\"Programação de qualidade!\")"
      ],
      "metadata": {
        "colab": {
          "base_uri": "https://localhost:8080/"
        },
        "id": "IrEt3b34vzY5",
        "outputId": "8d80594b-cd44-47b3-b2c7-81ab3753913c"
      },
      "execution_count": 1,
      "outputs": [
        {
          "output_type": "stream",
          "name": "stdout",
          "text": [
            "Programação de qualidade!\n"
          ]
        }
      ]
    },
    {
      "cell_type": "code",
      "source": [
        "#Variáveis\n",
        "nome = \"Mauricio França\"\n",
        "print(nome)\n"
      ],
      "metadata": {
        "colab": {
          "base_uri": "https://localhost:8080/"
        },
        "id": "Lz_HRm7zwOA4",
        "outputId": "93fad233-24ef-4a75-fc42-3e9e80f72a22"
      },
      "execution_count": 3,
      "outputs": [
        {
          "output_type": "stream",
          "name": "stdout",
          "text": [
            "Mauricio França\n"
          ]
        }
      ]
    },
    {
      "cell_type": "code",
      "source": [
        "#Operações com variáveis\n",
        "a = 20\n",
        "b = 35\n",
        "soma = a + b\n",
        "subtracao = a - b\n",
        "divisao = a / b\n",
        "multiplicacao = a * b\n",
        "\n"
      ],
      "metadata": {
        "id": "PutP5WhWw6yJ"
      },
      "execution_count": 7,
      "outputs": []
    },
    {
      "cell_type": "code",
      "source": [
        "print(soma)\n",
        "print(subtracao)\n",
        "print(divisao)\n",
        "print(multiplicacao)\n"
      ],
      "metadata": {
        "colab": {
          "base_uri": "https://localhost:8080/"
        },
        "id": "KQlIPibExxAJ",
        "outputId": "6136f77a-b4d5-418b-9a64-539326271ba6"
      },
      "execution_count": 6,
      "outputs": [
        {
          "output_type": "stream",
          "name": "stdout",
          "text": [
            "55\n",
            "-15\n",
            "0.5714285714285714\n",
            "700\n"
          ]
        }
      ]
    },
    {
      "cell_type": "markdown",
      "source": [],
      "metadata": {
        "id": "FSsqzGWB0pkH"
      }
    },
    {
      "cell_type": "markdown",
      "source": [
        "1. Pega o número de uma variável, e devolve o dobro\n",
        "2. Lê 3 notas e devolve a média Aritmética\n",
        "3. Pede o ano de nascimento da pessoa e calcula a idade atual dela.\n"
      ],
      "metadata": {
        "id": "CUR8h1yIzAqR"
      }
    },
    {
      "cell_type": "code",
      "source": [
        "from traitlets.traitlets import DottedObjectName\n",
        "#Dobro\n",
        "num = 42\n",
        "print (num * 2)"
      ],
      "metadata": {
        "colab": {
          "base_uri": "https://localhost:8080/"
        },
        "id": "bSSCMlE9yFYQ",
        "outputId": "c3fbed3e-337c-43ca-f549-ae2a5e1c5ad5"
      },
      "execution_count": 10,
      "outputs": [
        {
          "output_type": "stream",
          "name": "stdout",
          "text": [
            "84\n"
          ]
        }
      ]
    },
    {
      "cell_type": "code",
      "source": [
        "#Média\n",
        "n1 = 8\n",
        "n2 = 6.5\n",
        "n3 = 7\n",
        "média = (n1+n2+n3)/3\n",
        "print(média)"
      ],
      "metadata": {
        "colab": {
          "base_uri": "https://localhost:8080/"
        },
        "id": "0wGjbnKM1Kia",
        "outputId": "2ba4d2e3-9172-4247-8eaf-0f0084aba8e9"
      },
      "execution_count": 11,
      "outputs": [
        {
          "output_type": "stream",
          "name": "stdout",
          "text": [
            "7.166666666666667\n"
          ]
        }
      ]
    },
    {
      "cell_type": "code",
      "source": [
        "#Calcule idade\n",
        "anoNascim = 1982\n",
        "print(2023 - 1999)"
      ],
      "metadata": {
        "colab": {
          "base_uri": "https://localhost:8080/"
        },
        "id": "SR2zMVEu17Sx",
        "outputId": "7e39a6e2-3683-4d42-c3b2-6a7f27e493f6"
      },
      "execution_count": 12,
      "outputs": [
        {
          "output_type": "stream",
          "name": "stdout",
          "text": [
            "24\n"
          ]
        }
      ]
    },
    {
      "cell_type": "code",
      "source": [
        "#Trabalhando com INPUTS\n",
        "nome = input('Digite seu nome ')\n",
        "print('Olá '+nome)"
      ],
      "metadata": {
        "colab": {
          "base_uri": "https://localhost:8080/"
        },
        "id": "45_V0Oxe2VZa",
        "outputId": "95b3c8fa-c0dd-4f4f-dc02-beefa7daa246"
      },
      "execution_count": 23,
      "outputs": [
        {
          "output_type": "stream",
          "name": "stdout",
          "text": [
            "Digite seu nome Mauricio\n",
            "Olá Mauricio\n"
          ]
        }
      ]
    },
    {
      "cell_type": "code",
      "source": [
        "#Pede o número e Multiplique por 3\n",
        "num = int(input('Digita ai,'))\n",
        "print(num*3)\n"
      ],
      "metadata": {
        "colab": {
          "base_uri": "https://localhost:8080/"
        },
        "id": "IMVeI-S04jOj",
        "outputId": "78fe8cf7-fcad-4095-de10-8cfdaca4dc82"
      },
      "execution_count": 25,
      "outputs": [
        {
          "output_type": "stream",
          "name": "stdout",
          "text": [
            "digita ai,53\n",
            "159\n"
          ]
        }
      ]
    }
  ]
}