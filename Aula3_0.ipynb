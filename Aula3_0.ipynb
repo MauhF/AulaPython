{
  "nbformat": 4,
  "nbformat_minor": 0,
  "metadata": {
    "colab": {
      "provenance": [],
      "authorship_tag": "ABX9TyPMgHBC4R7ETM4fCVy+pOEl",
      "include_colab_link": true
    },
    "kernelspec": {
      "name": "python3",
      "display_name": "Python 3"
    },
    "language_info": {
      "name": "python"
    }
  },
  "cells": [
    {
      "cell_type": "markdown",
      "metadata": {
        "id": "view-in-github",
        "colab_type": "text"
      },
      "source": [
        "<a href=\"https://colab.research.google.com/github/MauhF/Programa-ao-Fpb/blob/main/Aula3_0.ipynb\" target=\"_parent\"><img src=\"https://colab.research.google.com/assets/colab-badge.svg\" alt=\"Open In Colab\"/></a>"
      ]
    },
    {
      "cell_type": "code",
      "execution_count": 3,
      "metadata": {
        "colab": {
          "base_uri": "https://localhost:8080/"
        },
        "id": "f_2yAhM5kPQl",
        "outputId": "c4e40b94-8661-40c2-c6b2-dd04f3d050ef"
      },
      "outputs": [
        {
          "output_type": "stream",
          "name": "stdout",
          "text": [
            "True\n",
            "True\n",
            "False\n",
            "True\n",
            "False\n",
            "True\n"
          ]
        }
      ],
      "source": [
        "#Tipos booleanos  \n",
        "print(100 == (50+50)) #igualdade\n",
        "print(100 >= (50+50))\n",
        "print(100 > (50+50))\n",
        "print(100 <= (50+50))\n",
        "print(100 !=(50+50))\n",
        "print(100 != 99)\n"
      ]
    },
    {
      "cell_type": "code",
      "source": [
        "#Se a idade for maior ou igual a 16, exiba: Pode tirar habilitação\n",
        "idade = int(input('Digite a idade: '))\n",
        "if (idade >= 16):\n",
        "  print('Pode tirar habilitação')\n",
        "else:\n",
        "  print('Não pode Menor')\n"
      ],
      "metadata": {
        "colab": {
          "base_uri": "https://localhost:8080/"
        },
        "id": "fjmbqIj4pU4b",
        "outputId": "9230ea04-6298-4f8d-a9d9-5e7e1210acb8"
      },
      "execution_count": 6,
      "outputs": [
        {
          "output_type": "stream",
          "name": "stdout",
          "text": [
            "Digite a idade: 15\n",
            "Não pode Menor\n"
          ]
        }
      ]
    },
    {
      "cell_type": "code",
      "source": [
        "#Se for do sexo feminino \"F\", e tiver 55 anos ou mais, pode se aposentar\n",
        "#Se for do sexo masculino \"M\", só se aposentarcom 60 anos ou mais.(versão II)\n",
        "sexo = input('Insira o sexo: m (masculino ou f (feminino): ')\n",
        "idade = int(input('Insira a idade: '))\n",
        "if((sexo == \"f\" and idade >=55) or (sexo == 'm' and idade >=60)):\n",
        "  print('Pode se aposentar' )\n",
        "else:\n",
        "  print('Ainda não pode')\n"
      ],
      "metadata": {
        "colab": {
          "base_uri": "https://localhost:8080/"
        },
        "id": "ED3fC_v5q3Py",
        "outputId": "a377533f-c499-4a92-c172-3c3f8c8f2a79"
      },
      "execution_count": 17,
      "outputs": [
        {
          "output_type": "stream",
          "name": "stdout",
          "text": [
            "Insira o sexo: m (masculino ou f (feminino): f\n",
            "Insira a idade: 75\n",
            "Pode se aposentar\n"
          ]
        }
      ]
    },
    {
      "cell_type": "code",
      "source": [
        "#Solicite na tela três números A, B e C.\n",
        "#Imprima na tela se A+B é menor que C.\n",
        "a = int(input('Digite o primeiro num: '))\n",
        "b = int(input('Digite o segundo num: '))\n",
        "c = int(input('Digite o terceiro num: '))\n",
        "if(a+b < c):\n",
        "  print('É menor')\n",
        "else:\n",
        "    print('Não é menor')"
      ],
      "metadata": {
        "colab": {
          "base_uri": "https://localhost:8080/"
        },
        "id": "1mYBA7PqwCAK",
        "outputId": "57451dcd-979c-4dbc-a350-f8c760b9fb7a"
      },
      "execution_count": 20,
      "outputs": [
        {
          "output_type": "stream",
          "name": "stdout",
          "text": [
            "Digite o primeiro num: 5\n",
            "Digite o segundo num: 9\n",
            "Digite o terceiro num: 6\n",
            "Não é menor\n"
          ]
        }
      ]
    },
    {
      "cell_type": "code",
      "source": [
        "#Escreva um algaritimo algaritmo que recebe 2 valores inteiros\n",
        "#e escreva na tela qual é o maior.\n",
        "vlr1= int(input('Digite o 1° valor: '))\n",
        "vlr2 = int(input('Digite o 2° valor: '))\n",
        "if(vlr1 > vlr2):\n",
        "  print('É maior')\n",
        "else:\n",
        "  print(\"É menor\")\n",
        "\n",
        "\n"
      ],
      "metadata": {
        "colab": {
          "base_uri": "https://localhost:8080/"
        },
        "id": "_5mUa3pnyXNb",
        "outputId": "1ed1fa48-8247-4260-9b4b-306e36ea0a5c"
      },
      "execution_count": 25,
      "outputs": [
        {
          "output_type": "stream",
          "name": "stdout",
          "text": [
            "Digite o 1 valor: 1\n",
            "Digite o 2 valor: 2\n",
            "É menor\n"
          ]
        }
      ]
    },
    {
      "cell_type": "code",
      "source": [
        "#Linguagens fortemente tipadas\n",
        "#Linguagens de tipagem dinâmica\n"
      ],
      "metadata": {
        "id": "Fh6nQij_8TDV"
      },
      "execution_count": 28,
      "outputs": []
    },
    {
      "cell_type": "code",
      "source": [
        "#Listas são estruturas de dados por elementos de um mesmo tipo\n",
        "numeros = [24, 4, 3, 6]\n",
        "numeros\n"
      ],
      "metadata": {
        "colab": {
          "base_uri": "https://localhost:8080/"
        },
        "id": "6rny-Vwu8pUd",
        "outputId": "65e67fbd-04d5-41e7-8dce-4d1e74192c59"
      },
      "execution_count": 36,
      "outputs": [
        {
          "output_type": "execute_result",
          "data": {
            "text/plain": [
              "[24, 4, 3, 6]"
            ]
          },
          "metadata": {},
          "execution_count": 36
        }
      ]
    },
    {
      "cell_type": "code",
      "source": [
        "#Tamanho de uma lista\n",
        "len(numeros)\n"
      ],
      "metadata": {
        "colab": {
          "base_uri": "https://localhost:8080/"
        },
        "id": "49H2RuJV9A60",
        "outputId": "490b2baa-4036-4f6c-e5ec-3b018419612b"
      },
      "execution_count": 37,
      "outputs": [
        {
          "output_type": "execute_result",
          "data": {
            "text/plain": [
              "4"
            ]
          },
          "metadata": {},
          "execution_count": 37
        }
      ]
    },
    {
      "cell_type": "code",
      "source": [
        "#Indices [24, 4, 3, 6]\n",
        "print(numeros[0])\n",
        "print(numeros[1])\n",
        "print(numeros[2])\n",
        "print(numeros[3])\n",
        "\n"
      ],
      "metadata": {
        "colab": {
          "base_uri": "https://localhost:8080/"
        },
        "id": "maHK-SiC9JZE",
        "outputId": "51784819-e037-41a0-e278-4ba3469199a8"
      },
      "execution_count": 38,
      "outputs": [
        {
          "output_type": "stream",
          "name": "stdout",
          "text": [
            "24\n",
            "4\n",
            "3\n",
            "6\n"
          ]
        }
      ]
    },
    {
      "cell_type": "code",
      "source": [
        "#listas de outros tipos \n",
        "alunos = ['Mariana', 'Luiz', 'Higor', 'Enzo', 'Valentina']\n",
        "alunos"
      ],
      "metadata": {
        "colab": {
          "base_uri": "https://localhost:8080/"
        },
        "id": "iFylIUz0-iMs",
        "outputId": "498ebdc0-29c4-4ced-a34e-33fb4b42e405"
      },
      "execution_count": 43,
      "outputs": [
        {
          "output_type": "execute_result",
          "data": {
            "text/plain": [
              "['Mariana', 'Luiz', 'Higor', 'Enzo', 'Valentina']"
            ]
          },
          "metadata": {},
          "execution_count": 43
        }
      ]
    },
    {
      "cell_type": "code",
      "source": [
        "#alterar o valores de itens de lista\n",
        "alunos[3] = 'Ivan'"
      ],
      "metadata": {
        "id": "nYOc1JgR-9y6"
      },
      "execution_count": 44,
      "outputs": []
    },
    {
      "cell_type": "code",
      "source": [
        "#inserir valores da lista\n",
        "alunos.append('Aderbal')\n",
        "alunos\n",
        "alunos.append(input('Digite o nome: '))\n",
        "\n"
      ],
      "metadata": {
        "colab": {
          "base_uri": "https://localhost:8080/"
        },
        "id": "Src3iaL5_OfC",
        "outputId": "d6405251-5d49-468f-96ef-87893c460995"
      },
      "execution_count": 61,
      "outputs": [
        {
          "name": "stdout",
          "output_type": "stream",
          "text": [
            "Digite o nome: Lim\n"
          ]
        }
      ]
    },
    {
      "cell_type": "code",
      "source": [
        "alunos.pop()\n"
      ],
      "metadata": {
        "id": "1n0iKrdB_28T"
      },
      "execution_count": null,
      "outputs": []
    },
    {
      "cell_type": "code",
      "source": [
        "alunos\n",
        "\n"
      ],
      "metadata": {
        "id": "-2UdordoAdmD"
      },
      "execution_count": null,
      "outputs": []
    },
    {
      "cell_type": "code",
      "source": [
        "#Descobrir se há um valor determinado na lista, exibir sua posição.\n",
        "if 'Cain' in alunos:\n",
        "  print('Tem Sim')\n",
        "else:\n",
        "  print('Tem Não') "
      ],
      "metadata": {
        "colab": {
          "base_uri": "https://localhost:8080/"
        },
        "id": "J7g-_B2HBIBB",
        "outputId": "22eb91e4-c37c-46da-daaa-f485034e1ef3"
      },
      "execution_count": 65,
      "outputs": [
        {
          "output_type": "stream",
          "name": "stdout",
          "text": [
            "Tem Não\n"
          ]
        }
      ]
    }
  ]
}