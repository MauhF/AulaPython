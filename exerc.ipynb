{
  "nbformat": 4,
  "nbformat_minor": 0,
  "metadata": {
    "colab": {
      "provenance": [],
      "authorship_tag": "ABX9TyPg85dBBCZSQmxQnu2gm7HE",
      "include_colab_link": true
    },
    "kernelspec": {
      "name": "python3",
      "display_name": "Python 3"
    },
    "language_info": {
      "name": "python"
    }
  },
  "cells": [
    {
      "cell_type": "markdown",
      "metadata": {
        "id": "view-in-github",
        "colab_type": "text"
      },
      "source": [
        "<a href=\"https://colab.research.google.com/github/MauhF/Programa-ao-Fpb/blob/main/exerc.ipynb\" target=\"_parent\"><img src=\"https://colab.research.google.com/assets/colab-badge.svg\" alt=\"Open In Colab\"/></a>"
      ]
    },
    {
      "cell_type": "code",
      "execution_count": null,
      "metadata": {
        "id": "_1CSjJ-aGLP6"
      },
      "outputs": [],
      "source": [
        "#curso foram aplicadas duas provas A e B, das quais o resultado foi o seguinte:\n",
        "provaA = {'Andre': 8.5, 'Ana': 7.0, 'Chico': 6.5, 'Nubia': 10, 'Luana': 8}\n",
        "provaB = {'Julio': 5.5, 'Aristides': 6.0, 'Sebastiana': 9.5, 'Camila': 10, 'João': 6}\n",
        "A partir disso, siga o roteiro:\n",
        "A Crie num novo dicionário resultado_final, o qual é a junção dos dois dicionários provaA e provaB\n",
        "Ordene o dicionário da maior nota para a menor nota\n",
        "O Gerente da comissão do concurso precisa de uma lista apenas com os nomes dos candidatos.\n",
        "O analista de dados precisa de uma lista apenas com as notas das provas.\n",
        "Querem disponibilizar um recurso, no qual se insere um nome de candidato e retorna a sua nota. Caso o candidato não exista, exibir a mensagem \n",
        "\"Candidato inexistente\".\n"
      ]
    },
    {
      "cell_type": "code",
      "source": [
        "provaA = {'Andre': 8.5, 'Ana': 7.0, 'Chico': 6.5, 'Nubia': 10, 'Luana': 8}\n",
        "provaB = {'Julio': 5.5, 'Aristides': 6.0, 'Sebastiana': 9.5, 'Camila': 10, 'João': 6}\n",
        "\n",
        "resultado_final = {}\n",
        "resultado_final.update (provaA)\n",
        "resultado_final.update (provaB)\n",
        "\n",
        "resultado_final"
      ],
      "metadata": {
        "colab": {
          "base_uri": "https://localhost:8080/"
        },
        "id": "WDy_13lsG9ej",
        "outputId": "8bc94701-b5f7-4c16-abc9-8cd15683d007"
      },
      "execution_count": 5,
      "outputs": [
        {
          "output_type": "execute_result",
          "data": {
            "text/plain": [
              "{'Andre': 8.5,\n",
              " 'Ana': 7.0,\n",
              " 'Chico': 6.5,\n",
              " 'Nubia': 10,\n",
              " 'Luana': 8,\n",
              " 'Julio': 5.5,\n",
              " 'Aristides': 6.0,\n",
              " 'Sebastiana': 9.5,\n",
              " 'Camila': 10,\n",
              " 'João': 6}"
            ]
          },
          "metadata": {},
          "execution_count": 5
        }
      ]
    },
    {
      "cell_type": "code",
      "source": [
        "sorted(resultado_final) #ordem alfabetica"
      ],
      "metadata": {
        "colab": {
          "base_uri": "https://localhost:8080/"
        },
        "id": "ac3muzsfJJh6",
        "outputId": "738441e9-47f0-411c-986a-72f23a05bf86"
      },
      "execution_count": 13,
      "outputs": [
        {
          "output_type": "execute_result",
          "data": {
            "text/plain": [
              "['Ana',\n",
              " 'Andre',\n",
              " 'Aristides',\n",
              " 'Camila',\n",
              " 'Chico',\n",
              " 'João',\n",
              " 'Julio',\n",
              " 'Luana',\n",
              " 'Nubia',\n",
              " 'Sebastiana']"
            ]
          },
          "metadata": {},
          "execution_count": 13
        }
      ]
    },
    {
      "cell_type": "code",
      "source": [
        "#ordenação Crescente\n",
        "sorted(resultado_final, key = resultado_final.get)"
      ],
      "metadata": {
        "id": "BVrrNXcTHiUs"
      },
      "execution_count": null,
      "outputs": []
    },
    {
      "cell_type": "code",
      "source": [
        "sorted(resultado_final, key = resultado_final.get, reverse=True)"
      ],
      "metadata": {
        "id": "2sOyV_oTIFlb"
      },
      "execution_count": null,
      "outputs": []
    },
    {
      "cell_type": "code",
      "source": [
        "sorted(resultado_final.items(), key = lambda x: x[1], reverse=True) #Ordenação crescente com valores, key terá que usar lambda porque saõ tuplas\n"
      ],
      "metadata": {
        "colab": {
          "base_uri": "https://localhost:8080/"
        },
        "id": "cMhlKQsmIcg6",
        "outputId": "b5cba584-c8b5-4778-8104-7b19e9d36f5c"
      },
      "execution_count": 34,
      "outputs": [
        {
          "output_type": "execute_result",
          "data": {
            "text/plain": [
              "[('Nubia', 10),\n",
              " ('Camila', 10),\n",
              " ('Sebastiana', 9.5),\n",
              " ('Andre', 8.5),\n",
              " ('Luana', 8),\n",
              " ('Ana', 7.0),\n",
              " ('Chico', 6.5),\n",
              " ('Aristides', 6.0),\n",
              " ('João', 6),\n",
              " ('Julio', 5.5)]"
            ]
          },
          "metadata": {},
          "execution_count": 34
        }
      ]
    },
    {
      "cell_type": "code",
      "source": [
        "dict.keys(resultado_final) #quando quiser transformar seja lista,tulplas, ou dict, colocar variável "
      ],
      "metadata": {
        "colab": {
          "base_uri": "https://localhost:8080/"
        },
        "id": "5Y9Rzj9NL3QN",
        "outputId": "834159e1-5e28-4c55-af44-c70e865401e0"
      },
      "execution_count": 26,
      "outputs": [
        {
          "output_type": "execute_result",
          "data": {
            "text/plain": [
              "dict_keys(['Andre', 'Ana', 'Chico', 'Nubia', 'Luana', 'Julio', 'Aristides', 'Sebastiana', 'Camila', 'João'])"
            ]
          },
          "metadata": {},
          "execution_count": 26
        }
      ]
    },
    {
      "cell_type": "code",
      "source": [
        "listaCandidatos = list(resultado_final.keys()) #transfomar dictkeys para lista, O Gerente da comissão do concurso precisa de uma lista apenas com os nomes dos candidatos.\n",
        "listaCandidatos"
      ],
      "metadata": {
        "id": "AFmBs3TVLEJh"
      },
      "execution_count": null,
      "outputs": []
    },
    {
      "cell_type": "code",
      "source": [
        "listaNotas = list(resultado_final.values())#O analista de dados precisa de uma lista apenas com as notas das provas.\n",
        "listaNotas"
      ],
      "metadata": {
        "colab": {
          "base_uri": "https://localhost:8080/"
        },
        "id": "HebkCQeqMSpZ",
        "outputId": "4733183c-9a8c-46b3-d8a9-4f6d7d922dd3"
      },
      "execution_count": 28,
      "outputs": [
        {
          "output_type": "execute_result",
          "data": {
            "text/plain": [
              "[8.5, 7.0, 6.5, 10, 8, 5.5, 6.0, 9.5, 10, 6]"
            ]
          },
          "metadata": {},
          "execution_count": 28
        }
      ]
    },
    {
      "cell_type": "code",
      "source": [
        "resultado_final.get('rildo', 'Candidato não existe')\n",
        "\n",
        "\n"
      ],
      "metadata": {
        "colab": {
          "base_uri": "https://localhost:8080/",
          "height": 35
        },
        "id": "qy4XHCfjMouI",
        "outputId": "3930208c-a8d5-4a88-bba4-af058b5e75e4"
      },
      "execution_count": 53,
      "outputs": [
        {
          "output_type": "execute_result",
          "data": {
            "text/plain": [
              "'Candidato não existe'"
            ],
            "application/vnd.google.colaboratory.intrinsic+json": {
              "type": "string"
            }
          },
          "metadata": {},
          "execution_count": 53
        }
      ]
    },
    {
      "cell_type": "code",
      "source": [
        "def consultaNota(dicNotas, nome):\n",
        "  if nome in dicNotas:\n",
        "    return dicNotas[nome]\n",
        "  else:\n",
        "    return 'Candidato Inexistente'\n"
      ],
      "metadata": {
        "id": "B1M5RwH8Rg7R"
      },
      "execution_count": 54,
      "outputs": []
    },
    {
      "cell_type": "code",
      "source": [
        "nomeCandidato = input('Digite sua graça: ')\n",
        "notaCandidato = consultaNota(resultado_final,nomeCandidato)\n",
        "print (notaCandidato)"
      ],
      "metadata": {
        "colab": {
          "base_uri": "https://localhost:8080/"
        },
        "id": "UHfu96AMSmRW",
        "outputId": "f58820a1-26c8-4fda-a682-ab7a641fa68a"
      },
      "execution_count": 55,
      "outputs": [
        {
          "output_type": "stream",
          "name": "stdout",
          "text": [
            "Digite sua graça: nubia\n",
            "Candidato Inexistente\n"
          ]
        }
      ]
    }
  ]
}