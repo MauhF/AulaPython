{
  "nbformat": 4,
  "nbformat_minor": 0,
  "metadata": {
    "colab": {
      "provenance": [],
      "include_colab_link": true
    },
    "kernelspec": {
      "name": "python3",
      "display_name": "Python 3"
    },
    "language_info": {
      "name": "python"
    }
  },
  "cells": [
    {
      "cell_type": "markdown",
      "metadata": {
        "id": "view-in-github",
        "colab_type": "text"
      },
      "source": [
        "<a href=\"https://colab.research.google.com/github/MauhF/Programa-ao-Fpb/blob/main/Aula_05_Tipos_de_vari%C3%A1veis_Estruturas_de_controle_.ipynb\" target=\"_parent\"><img src=\"https://colab.research.google.com/assets/colab-badge.svg\" alt=\"Open In Colab\"/></a>"
      ]
    },
    {
      "cell_type": "markdown",
      "source": [
        "Tipos de Variáveis"
      ],
      "metadata": {
        "id": "fU4pBcZtvcdE"
      }
    },
    {
      "cell_type": "code",
      "execution_count": null,
      "metadata": {
        "colab": {
          "base_uri": "https://localhost:8080/"
        },
        "id": "uW_kTOydvT-I",
        "outputId": "dd7387e4-3b6d-4c3a-99d6-7d752ab72e02"
      },
      "outputs": [
        {
          "name": "stdout",
          "output_type": "stream",
          "text": [
            "Insira o seu peso85\n"
          ]
        }
      ],
      "source": [
        "idade = 25\n",
        "peso = 85.0\n",
        "nome = 'Luiz'\n",
        "testeIdade = idade > 20"
      ]
    },
    {
      "cell_type": "code",
      "source": [
        "#Type(variável)"
      ],
      "metadata": {
        "id": "yYXv4voGv_aa"
      },
      "execution_count": null,
      "outputs": []
    },
    {
      "cell_type": "markdown",
      "source": [
        "Input de valores"
      ],
      "metadata": {
        "id": "MFAD3899wwDu"
      }
    },
    {
      "cell_type": "code",
      "source": [
        "nome = input('Digite seu nome')"
      ],
      "metadata": {
        "id": "GtofZQ1-wngs"
      },
      "execution_count": null,
      "outputs": []
    },
    {
      "cell_type": "code",
      "source": [
        "signo = input('Digite seu signo')"
      ],
      "metadata": {
        "id": "M4jhQOMtw6nE"
      },
      "execution_count": null,
      "outputs": []
    },
    {
      "cell_type": "code",
      "source": [
        "print(f'Olá, {nome}. Seu signo é {signo}?')"
      ],
      "metadata": {
        "id": "swyRxNatw6p7"
      },
      "execution_count": null,
      "outputs": []
    },
    {
      "cell_type": "markdown",
      "source": [
        "Alterar Tipo de variável"
      ],
      "metadata": {
        "id": "hkWKCb-UyEU6"
      }
    },
    {
      "cell_type": "code",
      "source": [
        "peso = input('Digite seu peso! ')"
      ],
      "metadata": {
        "id": "slmY5Gsiw6sc"
      },
      "execution_count": null,
      "outputs": []
    },
    {
      "cell_type": "code",
      "source": [
        "altura = input('Digite a altura! ')"
      ],
      "metadata": {
        "id": "ATfJeyAjw6u7"
      },
      "execution_count": null,
      "outputs": []
    },
    {
      "cell_type": "code",
      "source": [
        "#Cálculo do IMC  peso/altura^2\n",
        "imc = peso / (altura*altura)"
      ],
      "metadata": {
        "id": "HgQgAUqFw6xj"
      },
      "execution_count": null,
      "outputs": []
    },
    {
      "cell_type": "markdown",
      "source": [
        "# **Parse**"
      ],
      "metadata": {
        "id": "tPw9flfuz3pV"
      }
    },
    {
      "cell_type": "code",
      "source": [
        "peso = float(input('Digite seu peso! '))\n",
        "altura = float(input('Digite suas altura! '))"
      ],
      "metadata": {
        "id": "OOND4kdTz78K"
      },
      "execution_count": null,
      "outputs": []
    },
    {
      "cell_type": "code",
      "source": [
        "#Cálculo do IMC  peso/altura^2\n",
        "imc = peso / (altura*altura)\n",
        "print(f'seu imc é: {imc:,.2f}')"
      ],
      "metadata": {
        "id": "N3Xo-uDL0aRI"
      },
      "execution_count": null,
      "outputs": []
    },
    {
      "cell_type": "markdown",
      "source": [
        "Exercícios\n",
        "* 1 - Peça ao usuário para inserir 3 notas do tipo float, ao final escreva qual foi a média do aluno.\n",
        "* 2 - Solicite ao usuário que insira sua idade. Então, o software deve calcular em que ano você nasceu.\n",
        "\n"
      ],
      "metadata": {
        "id": "yj2eiJ5V1XTc"
      }
    },
    {
      "cell_type": "markdown",
      "source": [
        "\n",
        "#Estruturas de Controle\n",
        "\n"
      ],
      "metadata": {
        "id": "nRBIwqq03ZPx"
      }
    },
    {
      "cell_type": "code",
      "source": [
        "#Verifica a idade, caso seja maior que 16, avisa que pode tirar carteira de motorista\n",
        "idade = 20\n",
        "if(idade > 16):\n",
        "  print('Pode tirar carteira de motorista')"
      ],
      "metadata": {
        "id": "twKJlPhO3Xfp"
      },
      "execution_count": null,
      "outputs": []
    },
    {
      "cell_type": "code",
      "source": [
        "#Pede para o usuário digitar a média. Se for maior que 7, retorna \"Parabéns, você passou!\"\n",
        "media = float(input('insira a média!'))\n",
        "if (media > 7):\n",
        "  print('Parabéns, você passou!')"
      ],
      "metadata": {
        "id": "MNpsTaUO4BuH"
      },
      "execution_count": null,
      "outputs": []
    },
    {
      "cell_type": "markdown",
      "source": [
        "Else"
      ],
      "metadata": {
        "id": "vMWwrl5G8Mxf"
      }
    },
    {
      "cell_type": "code",
      "source": [
        "#Alterar o exemplo anterior para dizer que, caso a média seja menor que 7, \"Você está em recuperação\"\n",
        "media = float(input('insira a média!'))\n",
        "if (media > 7):\n",
        "  print('Parabéns, você passou!')\n",
        "else:\n",
        "  print('Você está em recuperação!')"
      ],
      "metadata": {
        "id": "NwCTeaIY8Ouc"
      },
      "execution_count": null,
      "outputs": []
    },
    {
      "cell_type": "markdown",
      "source": [
        "Elif"
      ],
      "metadata": {
        "id": "uxdLKBf28qUa"
      }
    },
    {
      "cell_type": "markdown",
      "source": [
        "##Ajustar para três condições.\n",
        "* Caso o usuário tenha média maior ou igual a 7, \"passou\"\n",
        "* Média menor que 7 mas, maior ou igual a 4, \"está em recuperação\"\n",
        "* Média inferior a 4, \"está reprovado\""
      ],
      "metadata": {
        "id": "XiT7Qr0f9sCd"
      }
    },
    {
      "cell_type": "code",
      "source": [
        "media = float(input('insira a média!'))\n",
        "if(media < 4):\n",
        "  print('Reprovado')\n",
        "elif(media < 7):\n",
        "  print('Em recuperação')\n",
        "else:\n",
        "  print('Passou, mizerave!')"
      ],
      "metadata": {
        "id": "rt4z1vdi8rXO"
      },
      "execution_count": null,
      "outputs": []
    },
    {
      "cell_type": "markdown",
      "source": [
        "Exercício:\n",
        "1. Criar um algoritmo que a idade do atleta de judô, e siga as seguintes regras:\n",
        "\n",
        "  * Se tiver 18 anos ou mais, \"é lutador sênior\"\n",
        "  * Se tiver entre 14 anos e 18, \"é lutador juvenil\"\n",
        "  * Se for menor que 14, \"é infantil\"\n",
        "2. Refaça o exemplo do IMC para as seguintes Regras:\n",
        "\n",
        "  * Menor que 18.5\t--------- Abaixo do peso normal\n",
        "  * 18.5 ---------------------------- 24.9\tPeso normal\n",
        "  * 25.0 ---------------------------- 29.9\tExcesso de peso\n",
        "  * 30.0 ---------------------------- 34.9\tObesidade classe I\n",
        "  * 35,0 ----------------------------- 39.9\tObesidade classe II\n",
        "  * Maior ou igual a 40.0\t-- Obesidade classe III\n",
        "\n",
        "\t\n",
        "\t\n",
        "\t\n",
        "\t\n"
      ],
      "metadata": {
        "id": "u_agONUU__qq"
      }
    },
    {
      "cell_type": "code",
      "source": [
        "peso = float(input('Digite o peso! '))\n",
        "altura = float(input('Digite a altura!'))\n",
        "imc = peso/altura**2\n",
        "if(imc < 18.5):\n",
        "  print('Abaixo do peso, otaro')\n",
        "elif(imc < 25):\n",
        "  print('Tai bem')\n",
        "elif(imc < 30):\n",
        "  print('Buchin tá aparecendo')\n",
        "elif(imc < 35):\n",
        "  print('Obeso I')\n",
        "elif(imc < 40):\n",
        "  print('Obeso II')\n",
        "else:\n",
        "  print('Obeso III')\n",
        "print('O IMC do paciente é:', round(imc,2))"
      ],
      "metadata": {
        "id": "RjrucUVF79-r"
      },
      "execution_count": null,
      "outputs": []
    },
    {
      "cell_type": "markdown",
      "source": [
        "#lista de exercícios\n",
        "1. Desenvolva um algoritmo que solicite três números A, B e C. Imprima na tela se A+B é menor que C.\n",
        "2. Desenvolva um programa que recebe um número e informa na tela se é par ou impar.\n",
        "3. Escreva um algoritmo que recebe um número e diz se ele é múltiplo de 3.\n",
        "4. Escreva um algoritmo que solicita o nome da pessoa, e o ano de nascimento. Então, calcula a idade e, se for menor que 18 anos, solicita o nome da Mãe.\n",
        "5. Faça um algoritmo que solicita um número, e retorna: O dobro caso o número seja positivo, o triplo caso o número seja negativo.\n",
        "6. Escreva um algoritmo que recebe 2 valores inteiros e escreve na tela qual é o maior.\n",
        "7. Faça um algoritmo que recebe 3 números inteiros e mostra-os em ordem decrescente."
      ],
      "metadata": {
        "id": "3z3L0OSzFN1N"
      }
    },
    {
      "cell_type": "markdown",
      "source": [
        "#Resolução dos exercícioszinhos"
      ],
      "metadata": {
        "id": "aCjAvjFMnoe9"
      }
    },
    {
      "cell_type": "code",
      "source": [
        "#Tipos booleanos \n",
        "print(100 == (50+50)) #igualdade\n",
        "print(100 >= (50+50)) \n",
        "print(100 > (50+50))\n",
        "print(100 <= (50+50))\n",
        "print(100 != (50+50))\n",
        "print(100 != 99)"
      ],
      "metadata": {
        "id": "UfOtUhjFnsgy"
      },
      "execution_count": null,
      "outputs": []
    },
    {
      "cell_type": "code",
      "source": [
        "# Se a idade for maior ou igual a 16, exiba: Pode tirar habilitação\n",
        "idade = int(input('Digite a idade: '))\n",
        "if(idade >= 16):\n",
        "  print('Pode tirar habilitação')\n",
        "else:\n",
        "  print('Ainda não, filé!')"
      ],
      "metadata": {
        "id": "G1u01ThYpOTs"
      },
      "execution_count": null,
      "outputs": []
    },
    {
      "cell_type": "code",
      "source": [
        "#Se for do sexo feminino \"F\", e tiver 55 anos ou mais, pode se aposentar\n",
        "#Se for do sexo masculino \"M\", só se asposenta com 60 anos ou mais.\n",
        "sexo = 'F'\n",
        "idade = 25\n",
        "if(sexo == 'F' and idade >=55):\n",
        "  print('Pode se aposentar')\n",
        "elif(sexo == 'M' and idade >=60):\n",
        "  print('Pode se aposentar')\n",
        "else:\n",
        "  print('Ainda não pode')\n"
      ],
      "metadata": {
        "id": "79i_4OgQqYpw"
      },
      "execution_count": null,
      "outputs": []
    },
    {
      "cell_type": "code",
      "source": [
        "#Versão II\n",
        "sexo = input('insira o sexo, m (masculino) ou f (feminino): ')\n",
        "idade = int(input('insira a idade: '))\n",
        "if((sexo == 'f' and idade >=55) or (sexo == 'm' and idade >=60)):\n",
        "  print('Pode se aposentar')\n",
        "else:\n",
        "  print('Ainda não pode')"
      ],
      "metadata": {
        "id": "PUJG0DiEs9SJ"
      },
      "execution_count": null,
      "outputs": []
    },
    {
      "cell_type": "code",
      "source": [
        "#solicite três números A, B e C. \n",
        "#Imprima na tela se A+B é menor que C.\n",
        "a = int(input('Digite o primeiro num: '))\n",
        "b = int(input('Digite o segundo num: '))\n",
        "c = int(input('Digite o terceiro num: '))\n",
        "if(a+b < c):\n",
        "  print('É menor')\n",
        "else:\n",
        "  print('Não é menor')"
      ],
      "metadata": {
        "id": "aEE_yELXv5GB",
        "outputId": "5ddf2208-9627-4889-849e-5f0db01eeeeb",
        "colab": {
          "base_uri": "https://localhost:8080/"
        }
      },
      "execution_count": null,
      "outputs": [
        {
          "output_type": "stream",
          "name": "stdout",
          "text": [
            "Digite o primeiro num: 2\n",
            "Digite o segundo num: 5\n",
            "Digite o terceiro num: 3365\n",
            "É menor\n"
          ]
        }
      ]
    }
  ]
}