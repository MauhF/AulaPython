{
  "nbformat": 4,
  "nbformat_minor": 0,
  "metadata": {
    "colab": {
      "provenance": [],
      "authorship_tag": "ABX9TyOoCe2RWcqW379vXTsJAsCU",
      "include_colab_link": true
    },
    "kernelspec": {
      "name": "python3",
      "display_name": "Python 3"
    },
    "language_info": {
      "name": "python"
    }
  },
  "cells": [
    {
      "cell_type": "markdown",
      "metadata": {
        "id": "view-in-github",
        "colab_type": "text"
      },
      "source": [
        "<a href=\"https://colab.research.google.com/github/MauhF/Programa-ao-Fpb/blob/main/Aula5Fun%C3%A7aoParametros.ipynb\" target=\"_parent\"><img src=\"https://colab.research.google.com/assets/colab-badge.svg\" alt=\"Open In Colab\"/></a>"
      ]
    },
    {
      "cell_type": "code",
      "execution_count": 11,
      "metadata": {
        "colab": {
          "base_uri": "https://localhost:8080/"
        },
        "id": "9P6lPOamzKsU",
        "outputId": "19e47280-7588-42e5-fe26-b37734a38ecc"
      },
      "outputs": [
        {
          "output_type": "stream",
          "name": "stdout",
          "text": [
            "Chute um número entre 0 e 100: 50\n",
            "Chute um número entre 0 e 50: 30\n",
            "Chute um número entre 0 e 30: 20\n",
            "Chute um número entre 20 e 30: 24\n",
            "Chute um número entre 24 e 30: 27\n",
            "Chute um número entre 27 e 30: 28\n",
            "Chute um número entre 28 e 30: 30\n",
            "Chute um número entre 28 e 30: 29\n",
            "ACERTOU, MIZERAVE! 8 tentativas!\n"
          ]
        }
      ],
      "source": [
        "#GAME\n",
        "import random\n",
        "num = random.randrange(101)\n",
        "minimo = 0\n",
        "maximo = 100\n",
        "pitaco = int(input(f'Chute um número entre {minimo} e {maximo}: '))\n",
        "cont = 1\n",
        "\n",
        "while(num != pitaco):\n",
        "  if(pitaco > num):\n",
        "    maximo = pitaco\n",
        "  else:\n",
        "    minimo = pitaco\n",
        "  pitaco = int(input(f'Chute um número entre {minimo} e {maximo}: '))\n",
        "  cont+=1\n",
        "\n",
        "print(f'ACERTOU, MIZERAVE! {cont} tentativas!')\n",
        "    "
      ]
    },
    {
      "cell_type": "code",
      "source": [
        "#Declaração da função\n",
        "def primeiraFuncao():\n",
        "  print('Minha primeira funçao!')\n",
        "\n",
        "#Chamando a função\n",
        "primeiraFuncao()\n"
      ],
      "metadata": {
        "colab": {
          "base_uri": "https://localhost:8080/"
        },
        "id": "DpMP0bGD3eJn",
        "outputId": "db7b66cc-5426-416e-ba16-9bd29f672187"
      },
      "execution_count": 10,
      "outputs": [
        {
          "output_type": "stream",
          "name": "stdout",
          "text": [
            "Minha primeira funçao!\n"
          ]
        }
      ]
    },
    {
      "cell_type": "code",
      "source": [
        "def pronomeTratam(pronome):\n",
        "  print(pronome,\" Pablo\")"
      ],
      "metadata": {
        "id": "irVG58T04gAR"
      },
      "execution_count": 12,
      "outputs": []
    },
    {
      "cell_type": "code",
      "source": [
        "pronomeTratam('Doutor')\n",
        "pronomeTratam('Ilmo')\n",
        "pronomeTratam('Seu')"
      ],
      "metadata": {
        "colab": {
          "base_uri": "https://localhost:8080/"
        },
        "id": "MjY4Zx2e4qpo",
        "outputId": "c738418c-8fb0-4be8-a84a-992b7f3f06cc"
      },
      "execution_count": 14,
      "outputs": [
        {
          "output_type": "stream",
          "name": "stdout",
          "text": [
            " Pablo\n",
            " Pablo\n",
            " Pablo\n"
          ]
        }
      ]
    },
    {
      "cell_type": "code",
      "source": [
        "#Uma função deve ser chamada com o número certinho de argumentos\n",
        "def boasVindas(nome, cargo):\n",
        "  print('Olá, '+ cargo + ''+ nome)\n"
      ],
      "metadata": {
        "id": "hfenDnFY6D-C"
      },
      "execution_count": 15,
      "outputs": []
    },
    {
      "cell_type": "markdown",
      "source": [],
      "metadata": {
        "id": "PAnjAcTu90NC"
      }
    },
    {
      "cell_type": "code",
      "source": [
        "boasVindas('Amaralina', 'Engenheira ')\n",
        "boasVindas('Jorge', 'Carimbador ')\n",
        "boasVindas('Maria', 'Sargento ')\n"
      ],
      "metadata": {
        "colab": {
          "base_uri": "https://localhost:8080/"
        },
        "id": "-OU4cW1H6afS",
        "outputId": "45f8db06-b9b9-41d8-ec95-aa33c656a950"
      },
      "execution_count": 18,
      "outputs": [
        {
          "output_type": "stream",
          "name": "stdout",
          "text": [
            "Olá, Engenheira Amaralina\n",
            "Olá, Carimbador Jorge\n",
            "Olá, Sargento Maria\n"
          ]
        }
      ]
    },
    {
      "cell_type": "code",
      "source": [
        "#Soma\n",
        "def somaNotas(*notas):\n",
        "  soma = 0\n",
        "  for nota in notas:\n",
        "    soma += nota\n",
        "  print(soma)"
      ],
      "metadata": {
        "id": "Rjw92j4h9gm8"
      },
      "execution_count": 26,
      "outputs": []
    },
    {
      "cell_type": "code",
      "source": [
        "somaNotas(8, 5, 3, 7 , 2, 10)"
      ],
      "metadata": {
        "colab": {
          "base_uri": "https://localhost:8080/"
        },
        "id": "bobOXXZZ9267",
        "outputId": "9f9afce5-bf22-44fa-8d18-3dcb46f10d19"
      },
      "execution_count": 27,
      "outputs": [
        {
          "output_type": "stream",
          "name": "stdout",
          "text": [
            "35\n"
          ]
        }
      ]
    },
    {
      "cell_type": "code",
      "source": [
        "#Media\n",
        "def media(*notas):\n",
        "  soma = 0\n",
        "  for nota in notas:\n",
        "    soma += nota\n",
        "  print(soma / len(notas))\n",
        "\n",
        "media(8, 5, 3, 2, 10, 7, 10)"
      ],
      "metadata": {
        "colab": {
          "base_uri": "https://localhost:8080/"
        },
        "id": "uYwZfZS4_qLi",
        "outputId": "18bcfeed-4763-4133-e78c-8d5a9b90dd4f"
      },
      "execution_count": 28,
      "outputs": [
        {
          "output_type": "stream",
          "name": "stdout",
          "text": [
            "6.428571428571429\n"
          ]
        }
      ]
    },
    {
      "cell_type": "code",
      "source": [
        "#Valor de parâmetro padrão\n",
        "def nacionalidade(country = 'Cuba'):\n",
        "  print('Eu nasci em: '+ country)\n"
      ],
      "metadata": {
        "id": "DN_P8vOJAVQr"
      },
      "execution_count": 31,
      "outputs": []
    },
    {
      "cell_type": "code",
      "source": [
        "nacionalidade('Brasil')\n",
        "nacionalidade('França')\n",
        "nacionalidade('Vietnã')\n",
        "nacionalidade()\n"
      ],
      "metadata": {
        "colab": {
          "base_uri": "https://localhost:8080/"
        },
        "id": "L1zq3D5hAyvB",
        "outputId": "4513118d-439f-4588-af03-f5a853b24b69"
      },
      "execution_count": 32,
      "outputs": [
        {
          "output_type": "stream",
          "name": "stdout",
          "text": [
            "Eu nasci em: Brasil\n",
            "Eu nasci em: França\n",
            "Eu nasci em: Vietnã\n",
            "Eu nasci em: Cuba\n"
          ]
        }
      ]
    },
    {
      "cell_type": "code",
      "source": [
        "def imc (peso, altura):\n",
        "  return peso/altura**2"
      ],
      "metadata": {
        "id": "h5CW5I-pC8bX"
      },
      "execution_count": 33,
      "outputs": []
    },
    {
      "cell_type": "code",
      "source": [
        "def situacaoPeso(imc):\n",
        "  if(imc < 18.5):\n",
        "    print('Abaixo do peso normal')\n",
        "  elif(imc < 24.9):\n",
        "    print('Peso normal')\n",
        "  else:\n",
        "    print('Obesidade')\n",
        "\n",
        "situacaoPeso(imc(85, 1.88))"
      ],
      "metadata": {
        "colab": {
          "base_uri": "https://localhost:8080/"
        },
        "id": "OpxxueFnDInn",
        "outputId": "ac3ab8e0-d0ab-44ce-d98c-2206e2012fb9"
      },
      "execution_count": 41,
      "outputs": [
        {
          "output_type": "stream",
          "name": "stdout",
          "text": [
            "Peso normal\n"
          ]
        }
      ]
    },
    {
      "cell_type": "code",
      "source": [
        "#Soma\n",
        "def soma(a, b):\n",
        "  return a + b\n",
        "\n",
        "#Subtração\n",
        "def subtracao(a, b):\n",
        "  return a - b\n",
        "\n",
        "#Multiplicação\n",
        "def vezes(a, b):\n",
        "  return a * b\n",
        "\n",
        "#Divisão\n",
        "def divisao(a, b):\n",
        "  return a / b"
      ],
      "metadata": {
        "id": "SSK1jEZeEi4C"
      },
      "execution_count": 48,
      "outputs": []
    },
    {
      "cell_type": "code",
      "source": [
        "#O cálculo de Juros Simples é dado pela fórmula:\n",
        "# J = C * i * t\n",
        "# Sendo:\n",
        "# J = juros simples\n",
        "# C = capital inicial\n",
        "# i = taxa de juros\n",
        "# t = tempo de aplicação\n",
        "#Crie uma função que recebe um valor de empréstimo e o\n",
        "#tempo e retorne quanto será pago de juros ao final do período\n",
        "#use uma taxa de juros de 2.5%"
      ],
      "metadata": {
        "id": "CIqu1XV5HY2g"
      },
      "execution_count": null,
      "outputs": []
    }
  ]
}