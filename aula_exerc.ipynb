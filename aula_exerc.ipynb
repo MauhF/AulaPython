{
  "nbformat": 4,
  "nbformat_minor": 0,
  "metadata": {
    "colab": {
      "provenance": [],
      "authorship_tag": "ABX9TyNo0V47ysIqqsnbB7wD7BIs",
      "include_colab_link": true
    },
    "kernelspec": {
      "name": "python3",
      "display_name": "Python 3"
    },
    "language_info": {
      "name": "python"
    }
  },
  "cells": [
    {
      "cell_type": "markdown",
      "metadata": {
        "id": "view-in-github",
        "colab_type": "text"
      },
      "source": [
        "<a href=\"https://colab.research.google.com/github/MauhF/Programa-ao-Fpb/blob/main/aula_exerc.ipynb\" target=\"_parent\"><img src=\"https://colab.research.google.com/assets/colab-badge.svg\" alt=\"Open In Colab\"/></a>"
      ]
    },
    {
      "cell_type": "code",
      "execution_count": 15,
      "metadata": {
        "colab": {
          "base_uri": "https://localhost:8080/"
        },
        "id": "vQFxuOhU1K5M",
        "outputId": "5468bf3a-9e2a-4b72-9db8-4a154361e68c"
      },
      "outputs": [
        {
          "output_type": "execute_result",
          "data": {
            "text/plain": [
              "['zé', 'tião', 'joaquim', 'julia']"
            ]
          },
          "metadata": {},
          "execution_count": 15
        }
      ],
      "source": [
        "nomes =  ['zé', 'tião', 'joaquim']\n",
        "nomes.append('julia')\n",
        "nomes"
      ]
    },
    {
      "cell_type": "code",
      "source": [
        "#vários valores\n",
        "outrosnomes = ['Ana', 'Zabé', 'Maria' ]\n",
        "nomes.extend(outrosnomes)\n",
        "nomes\n"
      ],
      "metadata": {
        "colab": {
          "base_uri": "https://localhost:8080/"
        },
        "id": "ynNVlIu67ZbY",
        "outputId": "47e5e8eb-d8c3-4989-8f41-2366a8c5b978"
      },
      "execution_count": 16,
      "outputs": [
        {
          "output_type": "execute_result",
          "data": {
            "text/plain": [
              "['zé', 'tião', 'joaquim', 'julia', 'Ana', 'Zabé', 'Maria']"
            ]
          },
          "metadata": {},
          "execution_count": 16
        }
      ]
    },
    {
      "cell_type": "code",
      "source": [
        "#Crie uma lista de números e\n",
        "numeros = [2, 4, 1, 6, 9, 12]\n",
        "#Remova o primeiro elemento da lista\n",
        "numeros.remove(numeros[0])\n",
        "#removero o último elemento da lista\n",
        "numeros.pop()\n",
        "\n",
        "numeros"
      ],
      "metadata": {
        "colab": {
          "base_uri": "https://localhost:8080/"
        },
        "id": "jOGcN2tO9Yit",
        "outputId": "31b861bb-585c-4760-ad05-c665f745a05b"
      },
      "execution_count": 18,
      "outputs": [
        {
          "output_type": "execute_result",
          "data": {
            "text/plain": [
              "[4, 1, 6, 9]"
            ]
          },
          "metadata": {},
          "execution_count": 18
        }
      ]
    },
    {
      "cell_type": "code",
      "source": [
        "#1 -  Crie uma lista de notas, e exiba-a da menor para o maior\n",
        "notas = [2,10,9,4,7,3,8]\n",
        "nomes = ['Ademar', 'Maristênio', 'Adrúbal', 'Leo']\n",
        "nomes.sort()\n",
        "nomes.sort(reverse=True)\n",
        "\n",
        "nomes\n",
        "#2 - Crie uma lista de nomes de frutas e ordene-a em ordem descrecente\n"
      ],
      "metadata": {
        "colab": {
          "base_uri": "https://localhost:8080/"
        },
        "id": "6ZRgIGbs_hAb",
        "outputId": "3725cd6b-67c4-4aae-edbc-e14282f1c77f"
      },
      "execution_count": 27,
      "outputs": [
        {
          "output_type": "execute_result",
          "data": {
            "text/plain": [
              "['Maristênio', 'Leo', 'Adrúbal', 'Ademar']"
            ]
          },
          "metadata": {},
          "execution_count": 27
        }
      ]
    },
    {
      "cell_type": "code",
      "source": [
        "#Exemplo função map - cria uma nova lista co o dobro\n",
        "numeros = [2, 4, 6, 3]\n",
        "nova_lista = list(map(lambda x : x*2, numeros))\n",
        "nova_lista"
      ],
      "metadata": {
        "colab": {
          "base_uri": "https://localhost:8080/"
        },
        "id": "Ko6sxQC9CDdT",
        "outputId": "71ccb1c6-0e6d-4e57-b0b7-dcab7b64bdba"
      },
      "execution_count": 29,
      "outputs": [
        {
          "output_type": "execute_result",
          "data": {
            "text/plain": [
              "[4, 8, 12, 6]"
            ]
          },
          "metadata": {},
          "execution_count": 29
        }
      ]
    },
    {
      "cell_type": "code",
      "source": [
        "#pegar cada um dos números e dividir por 3\n",
        "numDiv = list(map(lambda x : x/3, numeros))\n",
        "numDiv"
      ],
      "metadata": {
        "colab": {
          "base_uri": "https://localhost:8080/"
        },
        "id": "mdN3velgDHJU",
        "outputId": "b2e316fb-c8c4-40d4-d552-033dff76cf9f"
      },
      "execution_count": 38,
      "outputs": [
        {
          "output_type": "execute_result",
          "data": {
            "text/plain": [
              "[0.6666666666666666, 1.3333333333333333, 2.0, 1.0]"
            ]
          },
          "metadata": {},
          "execution_count": 38
        }
      ]
    },
    {
      "cell_type": "code",
      "source": [
        "#Pega cada númeroe soma 2\n",
        "numSom = list(map(lambda x : x+2, numeros))\n",
        "numSom"
      ],
      "metadata": {
        "colab": {
          "base_uri": "https://localhost:8080/"
        },
        "id": "DCGRcFm8EESU",
        "outputId": "2941c4c5-d083-4112-a2da-6446065466f2"
      },
      "execution_count": 37,
      "outputs": [
        {
          "output_type": "execute_result",
          "data": {
            "text/plain": [
              "[4, 6, 8, 5]"
            ]
          },
          "metadata": {},
          "execution_count": 37
        }
      ]
    },
    {
      "cell_type": "code",
      "source": [
        "#Exemplo de funçao Filter - a partir de uma lista de nomes,\n",
        "\n",
        "nomes = ['José', 'João', 'Sebastião', 'Angelica', 'Leonardo', 'Barbara']\n",
        "new_list =  list(filter(lambda x : len(x)>5, nomes))\n",
        "new_list"
      ],
      "metadata": {
        "colab": {
          "base_uri": "https://localhost:8080/"
        },
        "id": "ZnwT9jBMEz05",
        "outputId": "b21d2fb6-53cf-4349-d7d6-ff77865d6c44"
      },
      "execution_count": 42,
      "outputs": [
        {
          "output_type": "execute_result",
          "data": {
            "text/plain": [
              "['Sebastião', 'Angelica', 'Leonardo', 'Barbara']"
            ]
          },
          "metadata": {},
          "execution_count": 42
        }
      ]
    },
    {
      "cell_type": "code",
      "source": [
        "#Crie uma lista de notas, imprime apenas as maiores que 6\n",
        "notas1 = [7, 8, 9, 10, 6, 5, 3]\n",
        "new_list = list(filter(lambda x : x>6, notas))\n",
        "new_list"
      ],
      "metadata": {
        "colab": {
          "base_uri": "https://localhost:8080/"
        },
        "id": "R72zS5tFF88V",
        "outputId": "ffa97961-1602-4ed6-a688-46b7989628a5"
      },
      "execution_count": 54,
      "outputs": [
        {
          "output_type": "execute_result",
          "data": {
            "text/plain": [
              "[10, 9, 7, 8]"
            ]
          },
          "metadata": {},
          "execution_count": 54
        }
      ]
    },
    {
      "cell_type": "code",
      "source": [
        "#Exercicio 1\n",
        "newlist = [2, 6 , 3, 7, 9]\n",
        "new_list = list(map(lambda x : x*2, numeros))\n",
        "new_list\n"
      ],
      "metadata": {
        "colab": {
          "base_uri": "https://localhost:8080/"
        },
        "id": "vWvWGEyYIkjk",
        "outputId": "802339a8-6614-4e71-815e-e0361db3ff5e"
      },
      "execution_count": 55,
      "outputs": [
        {
          "output_type": "execute_result",
          "data": {
            "text/plain": [
              "[4, 8, 12, 6]"
            ]
          },
          "metadata": {},
          "execution_count": 55
        }
      ]
    },
    {
      "cell_type": "code",
      "source": [
        "#Dada uma lista de nomes,retorne uma lista contendo o tamanho de cada nome.\n",
        "nomes = ['Tesla', 'Betania', 'Neston', 'Hilda']\n",
        "\n",
        "new_list = list(map(lambda x : len(x),  nomes))\n",
        "new_list"
      ],
      "metadata": {
        "colab": {
          "base_uri": "https://localhost:8080/"
        },
        "id": "TWGe-2HpJWeU",
        "outputId": "c2a26791-53b9-4adf-f992-9f2c97a9c8b0"
      },
      "execution_count": 76,
      "outputs": [
        {
          "output_type": "execute_result",
          "data": {
            "text/plain": [
              "[5, 7, 6, 5]"
            ]
          },
          "metadata": {},
          "execution_count": 76
        }
      ]
    },
    {
      "cell_type": "code",
      "source": [
        "#exerc 3\n",
        "numeros = [8, 6, 7, 9]\n",
        "numeros = list(filter(lambda x : x%2==0, numeros))\n",
        "numeros"
      ],
      "metadata": {
        "colab": {
          "base_uri": "https://localhost:8080/"
        },
        "id": "24EHYfd9Mz71",
        "outputId": "543a1e53-6be3-47aa-d18e-a8f2d67ac3cc"
      },
      "execution_count": 81,
      "outputs": [
        {
          "output_type": "execute_result",
          "data": {
            "text/plain": [
              "[8, 6]"
            ]
          },
          "metadata": {},
          "execution_count": 81
        }
      ]
    },
    {
      "cell_type": "code",
      "source": [
        "nomes = ['Karina', 'Emma', 'Amanda', 'Alice', 'Luna']\n",
        "new_list = list(filter(lambda x : x[0] == 'A', nomes))\n",
        "new_list"
      ],
      "metadata": {
        "colab": {
          "base_uri": "https://localhost:8080/"
        },
        "id": "zyYsJNVYOA_7",
        "outputId": "3de1af12-e4e0-48ed-f013-0755f44068d7"
      },
      "execution_count": 84,
      "outputs": [
        {
          "output_type": "execute_result",
          "data": {
            "text/plain": [
              "['Amanda', 'Alice']"
            ]
          },
          "metadata": {},
          "execution_count": 84
        }
      ]
    }
  ]
}